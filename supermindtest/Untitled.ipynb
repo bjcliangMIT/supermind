{
 "cells": [
  {
   "cell_type": "code",
   "execution_count": 61,
   "metadata": {},
   "outputs": [],
   "source": [
    "import pandas as pd\n",
    "import numpy as np"
   ]
  },
  {
   "cell_type": "code",
   "execution_count": 23,
   "metadata": {},
   "outputs": [],
   "source": [
    "path = '/Users/bjcliang/Desktop/Malone/data/pilot/Empirica Data - 2021-11-15 14-58-09/'\n",
    "players = pd.read_csv(path+'players.csv')\n",
    "treatments = pd.read_csv(path+'treatments.csv')\n",
    "games = pd.read_csv(path+'games.csv')"
   ]
  },
  {
   "cell_type": "code",
   "execution_count": 130,
   "metadata": {},
   "outputs": [],
   "source": [
    "data_survey = players[['_id', 'exitStatus', 'createdAt']].copy()\n",
    "data_survey = data_survey.merge(games[['treatmentId','playerIds']], how = 'left',\n",
    "                                left_on = '_id', right_on = \"playerIds\")\n",
    "data_survey = data_survey.merge(treatments[['_id','name']], how = 'left',\n",
    "                                left_on = 'treatmentId', right_on = \"_id\")\n",
    "data_survey = data_survey.rename(columns={\"_id_x\": \"playerId\", 'name': 'treatment'})\n",
    "data_survey = data_survey[['playerId', 'treatment', 'exitStatus', 'createdAt', ]].copy()\n",
    "for col in data.columns[14:]:\n",
    "    data_survey[col[5:]] = players[col]"
   ]
  },
  {
   "cell_type": "code",
   "execution_count": 131,
   "metadata": {},
   "outputs": [],
   "source": [
    "data_survey.to_csv(path.split('/Empirica')[0]+'/survey.csv',index=False)"
   ]
  },
  {
   "cell_type": "code",
   "execution_count": 148,
   "metadata": {},
   "outputs": [],
   "source": [
    "ids, exits, names, answers, num_stage = [], [], [], [], []\n",
    "for i, row in players.iterrows():\n",
    "    if row['data.score'] == row['data.score']:\n",
    "        ans = row['data.score'].split('\\\\nStage ')\n",
    "        ans = [i.strip('[|]') for i in ans if len(i)>3]\n",
    "        stage = [i.split(']: ')[0].strip() for i in ans]\n",
    "        sols = [i.split(']: ')[1].strip() for i in ans]\n",
    "        \n",
    "        ids.extend([row['_id']]*len(ans))\n",
    "        exits.extend([row['exitStatus']]*len(ans))\n",
    "        names.extend(stage)\n",
    "        answers.extend(sols)\n",
    "        num_stage.extend(range(1, len(ans)+1))\n",
    "    else:\n",
    "        ids.append(row['_id'])\n",
    "        exits.append(row['exitStatus'])\n",
    "        names.append(row['data.score'])\n",
    "        answers.append(row['data.score'])\n",
    "        num_stage.append(1)"
   ]
  },
  {
   "cell_type": "code",
   "execution_count": 149,
   "metadata": {},
   "outputs": [],
   "source": [
    "solutions = pd.DataFrame({'playerId':ids, 'exitStatus':exits, \n",
    "                          'numStage': num_stage,\n",
    "                          'stage': names, 'solution': answers})"
   ]
  },
  {
   "cell_type": "code",
   "execution_count": 150,
   "metadata": {},
   "outputs": [],
   "source": [
    "solutions['solution'] = solutions['solution'].apply(lambda x: x.split('\\\\n') if x==x else [x])\n",
    "solutions = solutions.explode('solution')\n",
    "solutions['solution'] = solutions['solution'].apply(lambda x: x.strip() if x==x else x)\n",
    "solutions.to_csv(path.split('/Empirica')[0]+'/solutions.csv',index=False)"
   ]
  },
  {
   "cell_type": "code",
   "execution_count": null,
   "metadata": {},
   "outputs": [],
   "source": []
  }
 ],
 "metadata": {
  "kernelspec": {
   "display_name": "Python 3",
   "language": "python",
   "name": "python3"
  },
  "language_info": {
   "codemirror_mode": {
    "name": "ipython",
    "version": 3
   },
   "file_extension": ".py",
   "mimetype": "text/x-python",
   "name": "python",
   "nbconvert_exporter": "python",
   "pygments_lexer": "ipython3",
   "version": "3.8.5"
  }
 },
 "nbformat": 4,
 "nbformat_minor": 4
}
